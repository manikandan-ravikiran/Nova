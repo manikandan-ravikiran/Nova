{
 "cells": [
  {
   "cell_type": "code",
   "execution_count": 1,
   "metadata": {},
   "outputs": [
    {
     "ename": "ImportError",
     "evalue": "No module named mahotas",
     "output_type": "error",
     "traceback": [
      "\u001b[1;31m---------------------------------------------------------------------------\u001b[0m",
      "\u001b[1;31mImportError\u001b[0m                               Traceback (most recent call last)",
      "\u001b[1;32m<ipython-input-1-970358200afa>\u001b[0m in \u001b[0;36m<module>\u001b[1;34m()\u001b[0m\n\u001b[0;32m      1\u001b[0m \u001b[1;31m# import the necessary packages\u001b[0m\u001b[1;33m\u001b[0m\u001b[1;33m\u001b[0m\u001b[0m\n\u001b[1;32m----> 2\u001b[1;33m \u001b[1;32mimport\u001b[0m \u001b[0mmahotas\u001b[0m\u001b[1;33m\u001b[0m\u001b[0m\n\u001b[0m\u001b[0;32m      3\u001b[0m \u001b[1;33m\u001b[0m\u001b[0m\n\u001b[0;32m      4\u001b[0m \u001b[1;32mclass\u001b[0m \u001b[0mZernikeMoments\u001b[0m\u001b[1;33m:\u001b[0m\u001b[1;33m\u001b[0m\u001b[0m\n\u001b[0;32m      5\u001b[0m         \u001b[1;32mdef\u001b[0m \u001b[0m__init__\u001b[0m\u001b[1;33m(\u001b[0m\u001b[0mself\u001b[0m\u001b[1;33m,\u001b[0m \u001b[0mradius\u001b[0m\u001b[1;33m)\u001b[0m\u001b[1;33m:\u001b[0m\u001b[1;33m\u001b[0m\u001b[0m\n",
      "\u001b[1;31mImportError\u001b[0m: No module named mahotas"
     ]
    }
   ],
   "source": [
    "# currently the code is written keeping images into account\n",
    "# for csv with 1xn we need tomodify or remove the contour extraction\n",
    "\n",
    "# import the necessary packages\n",
    "import mahotas\n",
    "import numpy as np\n",
    "import argparse\n",
    "import cPickle\n",
    "import glob\n",
    "import cv2\n",
    "\n",
    "class ZernikeMoments:\n",
    "\tdef __init__(self, radius):\n",
    "\t\t# store the size of the radius that will be\n",
    "\t\t# used when computing moments\n",
    "\t\tself.radius = radius\n",
    "\n",
    "\tdef describe(self, image):\n",
    "\t\t# return the Zernike moments for the image\n",
    "\t\treturn mahotas.features.zernike_moments(image, self.radius)4\n",
    "\n",
    "\n",
    "# initialize our descriptor (Zernike Moments with a radius\n",
    "# of 21 \n",
    "\n",
    "desc = ZernikeMoments(21)\n",
    "index = {}\n",
    "\n",
    "# loop over the sprite images\n",
    "for path in glob.glob(\"/*.png\"):\n",
    "\t# convert it to grayscale\n",
    "\tclass = spritePath[path.rfind(\"/\") + 1:].replace(\".png\", \"\") #needs spritepath implementation for class label\n",
    "\timage = cv2.imread(path)\n",
    "\timage = cv2.cvtColor(image, cv2.COLOR_BGR2GRAY)\n",
    "\n",
    "    \n",
    "    ##########################################################################\n",
    "    ########## Image related code..needs to modified for 1xn from csv#######\n",
    "    #########padding boredr/ and countour addition to be removed\"#########\n",
    "    ##########################################################################\n",
    "\t# pad the image with extra white pixels to ensure the\n",
    "\t# edges of the class are not up against the borders\n",
    "\t# of the image\n",
    "\timage = cv2.copyMakeBorder(image, 15, 15, 15, 15,\n",
    "\t\tcv2.BORDER_CONSTANT, value = 255)\n",
    "\n",
    "\t# invert the image and threshold it\n",
    "\tthresh = cv2.bitwise_not(image)\n",
    "\tthresh[thresh > 0] = 255\n",
    "\n",
    "\t# initialize the outline image, find the outermost\n",
    "\t# contours (the outline) of the class, then draw\n",
    "\t# it\n",
    "\toutline = np.zeros(image.shape, dtype = \"uint8\")\n",
    "\t(cnts, _) = cv2.findContours(thresh.copy(), cv2.RETR_EXTERNAL,\n",
    "\t\tcv2.CHAIN_APPROX_SIMPLE)\n",
    "\tcnts = sorted(cnts, key = cv2.contourArea, reverse = True)[0]\n",
    "\tcv2.drawContours(outline, [cnts], -1, 255, -1)\n",
    "    \n",
    "    \n",
    "    ##########Till here ##################################################\n",
    "\n",
    "\t# compute Zernike moments to characterize the shape\n",
    "\t# of class outline, then update the index\n",
    "\tmoments = desc.describe(outline)\n",
    "\tindex[class] = moments\n",
    "\n",
    "# write the index to file\n",
    "f = open(args[\"index\"], \"w\")\n",
    "f.write(cPickle.dumps(index))\n",
    "f.close()"
   ]
  }
 ],
 "metadata": {
  "kernelspec": {
   "display_name": "Python 2",
   "language": "python",
   "name": "python2"
  },
  "language_info": {
   "codemirror_mode": {
    "name": "ipython",
    "version": 2
   },
   "file_extension": ".py",
   "mimetype": "text/x-python",
   "name": "python",
   "nbconvert_exporter": "python",
   "pygments_lexer": "ipython2",
   "version": "2.7.13"
  }
 },
 "nbformat": 4,
 "nbformat_minor": 2
}
